{
 "cells": [
  {
   "cell_type": "markdown",
   "id": "03ef86ba",
   "metadata": {},
   "source": [
    "## Importing Libraries"
   ]
  },
  {
   "cell_type": "code",
   "execution_count": null,
   "id": "04045cc3",
   "metadata": {},
   "outputs": [],
   "source": [
    "!pip install opencv-python"
   ]
  },
  {
   "cell_type": "code",
   "execution_count": null,
   "id": "833b4ea4",
   "metadata": {},
   "outputs": [],
   "source": [
    "import cv2\n",
    "import os\n",
    "from PIL import Image\n",
    "import tensorflow as tf\n",
    "from tensorflow import keras\n",
    "import numpy as np\n",
    "from sklearn.model_selection import train_test_split\n",
    "from keras.utils import normalize\n",
    "from keras.models import Sequential\n",
    "from keras.layers import Conv2D, MaxPool2D, Activation, Dropout, Flatten, Dense\n",
    "import matplotlib.pyplot as plt"
   ]
  },
  {
   "cell_type": "markdown",
   "id": "5e69a7d7",
   "metadata": {},
   "source": [
    "## Datasets and Labels"
   ]
  },
  {
   "cell_type": "code",
   "execution_count": null,
   "id": "fd94c6fb",
   "metadata": {},
   "outputs": [],
   "source": [
    "image_directory = 'datasets/'"
   ]
  },
  {
   "cell_type": "code",
   "execution_count": null,
   "id": "a17c304e",
   "metadata": {},
   "outputs": [],
   "source": [
    "no_tumour_images = os.listdir(image_directory + 'no/')\n",
    "yes_tumour_images = os.listdir(image_directory + 'yes/')"
   ]
  },
  {
   "cell_type": "code",
   "execution_count": null,
   "id": "19d8322b",
   "metadata": {},
   "outputs": [],
   "source": [
    "dataset = []\n",
    "label = []\n",
    "INPUTSIZE = 256"
   ]
  },
  {
   "cell_type": "code",
   "execution_count": null,
   "id": "29f4fad1",
   "metadata": {},
   "outputs": [],
   "source": [
    "for i, image_name in enumerate(no_tumour_images):\n",
    "    if(image_name.split('.')[1] == 'jpg'):\n",
    "        image = cv2.imread(image_directory + 'no/' + image_name)\n",
    "        \n",
    "        image = Image.fromarray(image, 'RGB')\n",
    "        image = image.resize((INPUTSIZE, INPUTSIZE))\n",
    "\n",
    "        dataset.append(np.array(image))\n",
    "        label.append(0)"
   ]
  },
  {
   "cell_type": "code",
   "execution_count": null,
   "id": "8d91b48d",
   "metadata": {},
   "outputs": [],
   "source": [
    "for i, image_name in enumerate(yes_tumour_images):\n",
    "    if(image_name.split('.')[1] == 'jpg'):\n",
    "        image = cv2.imread(image_directory + 'yes/' + image_name)\n",
    "        \n",
    "        image = Image.fromarray(image, 'RGB')\n",
    "        image = image.resize((INPUTSIZE, INPUTSIZE))\n",
    "\n",
    "        dataset.append(np.array(image))\n",
    "        label.append(1)"
   ]
  },
  {
   "cell_type": "code",
   "execution_count": null,
   "id": "84fd74e8",
   "metadata": {},
   "outputs": [],
   "source": [
    "dataset = np.array(dataset)\n",
    "label = np.array(label)"
   ]
  },
  {
   "cell_type": "code",
   "execution_count": null,
   "id": "70b12202",
   "metadata": {},
   "outputs": [],
   "source": []
  },
  {
   "cell_type": "markdown",
   "id": "8ffa7757",
   "metadata": {},
   "source": [
    "## Data Splitting"
   ]
  },
  {
   "cell_type": "code",
   "execution_count": null,
   "id": "2f6e65c9",
   "metadata": {},
   "outputs": [],
   "source": [
    "xtrain, xtest, ytrain, ytest = train_test_split(dataset, label, test_size=0.2, random_state=0)"
   ]
  },
  {
   "cell_type": "code",
   "execution_count": null,
   "id": "c48b7e3c",
   "metadata": {},
   "outputs": [],
   "source": [
    "print(xtrain.shape)\n",
    "print(xtest.shape)\n",
    "print(ytrain.shape)\n",
    "print(ytest.shape)"
   ]
  },
  {
   "cell_type": "code",
   "execution_count": null,
   "id": "bd953568",
   "metadata": {},
   "outputs": [],
   "source": [
    "xtrain = normalize(xtrain, axis=1)\n",
    "xtest = normalize(xtest, axis=1)"
   ]
  },
  {
   "cell_type": "code",
   "execution_count": null,
   "id": "7fd6d6ee",
   "metadata": {},
   "outputs": [],
   "source": []
  },
  {
   "cell_type": "markdown",
   "id": "e958ce97",
   "metadata": {},
   "source": [
    "## Model Build"
   ]
  },
  {
   "cell_type": "code",
   "execution_count": null,
   "id": "52162380",
   "metadata": {},
   "outputs": [],
   "source": [
    "#Basic CNN Model\n",
    "model = Sequential()\n",
    "model.add(Conv2D(32, (3, 3), input_shape = (INPUTSIZE, INPUTSIZE, 3)))\n",
    "model.add(Activation('relu'))\n",
    "model.add(MaxPool2D(pool_size=(2, 2)))\n",
    "\n",
    "model.add(Conv2D(64, (3, 3), kernel_initializer='he_uniform'))\n",
    "model.add(Activation('relu'))\n",
    "model.add(MaxPool2D(pool_size=(2, 2)))\n",
    "\n",
    "model.add(Conv2D(128, (3, 3), kernel_initializer='he_uniform'))\n",
    "model.add(Activation('relu'))\n",
    "model.add(MaxPool2D(pool_size=(2, 2)))\n",
    "\n",
    "model.add(Conv2D(256, (3, 3), kernel_initializer='he_uniform'))\n",
    "model.add(Activation('relu'))\n",
    "model.add(MaxPool2D(pool_size=(2, 2)))\n",
    "\n",
    "\n",
    "model.add(Flatten())\n",
    "\n",
    "model.add(Dense(256)) #corresponding to INPUTSIZE\n",
    "model.add(Activation('relu'))\n",
    "model.add(Dropout(0.5))\n",
    "model.add(Dense(1))\n",
    "model.add(Activation('sigmoid'))\n",
    "\n",
    "#############RESNET50 Model#####################\n",
    "# base_model = ResNet50(weights='imagenet', include_top=False, input_shape=(img_height, img_width, 3))\n",
    "\n",
    "# for layer in base_model.layers:\n",
    "#     layer.trainable = False\n",
    "\n",
    "# # Add custom top layers for binary classification\n",
    "# model = Sequential([\n",
    "#     base_model,\n",
    "#     Flatten(),\n",
    "#     Dense(128, activation='relu'),\n",
    "#     Dense(1, activation='sigmoid')\n",
    "# ])\n",
    "\n",
    "\n",
    "\n",
    "###########RESNET50 Model#######################\n",
    "# base_model = ResNet50(include_top=False, weights='imagenet')\n",
    "# x = base_model.output\n",
    "# x = GlobalAveragePooling2D()(x)\n",
    "# x = Dense(1024, activation = 'relu')(x)\n",
    "# predictions = Dense(train_generator.num_classes, activation='sigmoid')(x)\n",
    "# model = Model(inputs=base_model.input, outputs=predictions)\n",
    "\n",
    "# for layer in base_model.layers:\n",
    "#     layer.trainable = False"
   ]
  },
  {
   "cell_type": "code",
   "execution_count": null,
   "id": "0da723ce",
   "metadata": {},
   "outputs": [],
   "source": [
    "model.compile(loss= 'binary_crossentropy', \n",
    "              optimizer='adam', \n",
    "              metrics=['accuracy'])"
   ]
  },
  {
   "cell_type": "code",
   "execution_count": null,
   "id": "25356ca9",
   "metadata": {},
   "outputs": [],
   "source": [
    "model.fit(xtrain, ytrain, \n",
    "          batch_size=16, \n",
    "          verbose=1, \n",
    "          epochs=3, \n",
    "          validation_data=(xtest, ytest), \n",
    "          shuffle=False)"
   ]
  },
  {
   "cell_type": "code",
   "execution_count": null,
   "id": "78f32b3e",
   "metadata": {},
   "outputs": [],
   "source": [
    "model.save('brain_tumour_7epochs.h5')"
   ]
  },
  {
   "cell_type": "code",
   "execution_count": null,
   "id": "7b92b301",
   "metadata": {},
   "outputs": [],
   "source": []
  },
  {
   "cell_type": "markdown",
   "id": "f7474581",
   "metadata": {},
   "source": [
    "## Model Accuracy"
   ]
  },
  {
   "cell_type": "code",
   "execution_count": null,
   "id": "16e1f091",
   "metadata": {},
   "outputs": [],
   "source": [
    "test_loss, test_acc = model.evaluate(xtest, ytest)\n",
    "print(f\"This Model error is: {round((test_loss)*100, 2)}% error\")\n",
    "print(f\"This Model scores: {round((test_acc)*100, 2)}% accuracy\")"
   ]
  },
  {
   "cell_type": "code",
   "execution_count": null,
   "id": "4f78e106",
   "metadata": {},
   "outputs": [],
   "source": []
  },
  {
   "cell_type": "markdown",
   "id": "46a2667c",
   "metadata": {},
   "source": [
    "## Image Prediction"
   ]
  },
  {
   "cell_type": "code",
   "execution_count": null,
   "id": "af32b004",
   "metadata": {},
   "outputs": [],
   "source": [
    "import cv2\n",
    "import matplotlib.pyplot as plt\n",
    "from tensorflow.keras.models import load_model"
   ]
  },
  {
   "cell_type": "code",
   "execution_count": null,
   "id": "99953e78",
   "metadata": {},
   "outputs": [],
   "source": [
    "model = load_model('brain_tumour_7epochs.h5')"
   ]
  },
  {
   "cell_type": "markdown",
   "id": "5c83a65e",
   "metadata": {},
   "source": [
    "## Predicting existing image"
   ]
  },
  {
   "cell_type": "code",
   "execution_count": null,
   "id": "fc8be5e4",
   "metadata": {},
   "outputs": [],
   "source": [
    "pred = model.predict(np.expand_dims(xtest[0], axis=0)).round(2) # predicting the 0th index image of xtest folder"
   ]
  },
  {
   "cell_type": "code",
   "execution_count": null,
   "id": "d5837c14",
   "metadata": {},
   "outputs": [],
   "source": [
    "pred[0] # Predicted Value in array"
   ]
  },
  {
   "cell_type": "code",
   "execution_count": null,
   "id": "2489c7f4",
   "metadata": {},
   "outputs": [],
   "source": [
    "np.argmax(pred) # finding the argmax optimal value of all feasible predicted value"
   ]
  },
  {
   "cell_type": "code",
   "execution_count": null,
   "id": "c2bdc6e0",
   "metadata": {},
   "outputs": [],
   "source": [
    "ytest[0] # actual value"
   ]
  },
  {
   "cell_type": "code",
   "execution_count": null,
   "id": "2ecdf33c",
   "metadata": {},
   "outputs": [],
   "source": [
    "thresh = np.argmax(pred)"
   ]
  },
  {
   "cell_type": "code",
   "execution_count": null,
   "id": "a7782c7c",
   "metadata": {},
   "outputs": [],
   "source": [
    "if thresh >= 0.5:\n",
    "    print(thresh)\n",
    "    print(\"tumour\")\n",
    "else:\n",
    "    print(thresh)\n",
    "    print(\"Normal\")"
   ]
  },
  {
   "cell_type": "markdown",
   "id": "f90e7289",
   "metadata": {},
   "source": [
    "## predicting new image from gallery"
   ]
  },
  {
   "cell_type": "code",
   "execution_count": null,
   "id": "5e64b9e9",
   "metadata": {},
   "outputs": [],
   "source": [
    "import cv2\n",
    "import matplotlib.pyplot as plt"
   ]
  },
  {
   "cell_type": "code",
   "execution_count": null,
   "id": "228bf20e",
   "metadata": {},
   "outputs": [],
   "source": [
    "image = cv2.imread(r\"C:\\Users\\SHASHANK K\\pythonProject\\Brain Tumour Detection\\Datasets\\pred\\pred48.jpg\")\n",
    "plt.imshow(cv2.cvtColor(image, cv2.COLOR_BGR2RGB))\n",
    "plt.show()"
   ]
  },
  {
   "cell_type": "code",
   "execution_count": null,
   "id": "18aaed29",
   "metadata": {},
   "outputs": [],
   "source": [
    "resize = tf.image.resize(image, (INPUTSIZE, INPUTSIZE))\n",
    "plt.imshow(resize.numpy().astype(int))\n",
    "plt.show()"
   ]
  },
  {
   "cell_type": "code",
   "execution_count": null,
   "id": "9a64a314",
   "metadata": {},
   "outputs": [],
   "source": [
    "pred = model.predict(np.expand_dims(resize/255, axis = 0)).round(2)"
   ]
  },
  {
   "cell_type": "code",
   "execution_count": null,
   "id": "252be069",
   "metadata": {},
   "outputs": [],
   "source": [
    "pred[0]"
   ]
  },
  {
   "cell_type": "code",
   "execution_count": null,
   "id": "decc8932",
   "metadata": {},
   "outputs": [],
   "source": [
    "if pred[0] >= 0.5:\n",
    "    print(\"tumour\")\n",
    "else:\n",
    "    print(\"Normal\")"
   ]
  },
  {
   "cell_type": "code",
   "execution_count": null,
   "id": "462b0e8e",
   "metadata": {},
   "outputs": [],
   "source": []
  },
  {
   "cell_type": "markdown",
   "id": "43b75a0c",
   "metadata": {},
   "source": [
    "## Graph Plot"
   ]
  },
  {
   "cell_type": "code",
   "execution_count": null,
   "id": "82093656",
   "metadata": {},
   "outputs": [],
   "source": [
    "logdir='logs'\n",
    "tensorboard_callback = tf.keras.callbacks.TensorBoard(log_dir=logdir)\n",
    "hist = model.fit(xtrain, ytrain, \n",
    "          batch_size=16, \n",
    "          verbose=1, \n",
    "          epochs=3, \n",
    "          validation_data=(xtest, ytest), \n",
    "          shuffle=False)"
   ]
  },
  {
   "cell_type": "code",
   "execution_count": null,
   "id": "0c34b864",
   "metadata": {},
   "outputs": [],
   "source": [
    "fig = plt.figure()\n",
    "plt.plot(hist.history['loss'], color='teal', label='loss')\n",
    "\n",
    "fig.suptitle('Loss', fontsize=20)\n",
    "plt.legend(loc=\"upper left\")\n",
    "plt.show()"
   ]
  },
  {
   "cell_type": "code",
   "execution_count": null,
   "id": "cc7cc97f",
   "metadata": {},
   "outputs": [],
   "source": [
    "fig = plt.figure()\n",
    "plt.plot(hist.history['accuracy'], color='teal', label='accuracy')\n",
    "\n",
    "fig.suptitle('Accuracy', fontsize=20)\n",
    "plt.legend(loc=\"upper left\")\n",
    "plt.show()"
   ]
  },
  {
   "cell_type": "code",
   "execution_count": null,
   "id": "94391cb8",
   "metadata": {},
   "outputs": [],
   "source": []
  }
 ],
 "metadata": {
  "kernelspec": {
   "display_name": "Python 3 (ipykernel)",
   "language": "python",
   "name": "python3"
  },
  "language_info": {
   "codemirror_mode": {
    "name": "ipython",
    "version": 3
   },
   "file_extension": ".py",
   "mimetype": "text/x-python",
   "name": "python",
   "nbconvert_exporter": "python",
   "pygments_lexer": "ipython3",
   "version": "3.8.2"
  }
 },
 "nbformat": 4,
 "nbformat_minor": 5
}
